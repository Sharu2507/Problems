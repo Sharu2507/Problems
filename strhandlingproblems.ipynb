{
 "cells": [
  {
   "cell_type": "markdown",
   "id": "6f3ae321-6714-4fd6-8006-7de60964d6d2",
   "metadata": {},
   "source": [
    "# STRING HANDLING"
   ]
  },
  {
   "cell_type": "code",
   "execution_count": 13,
   "id": "667389fb-17e3-4beb-88d8-8604370ba193",
   "metadata": {},
   "outputs": [
    {
     "name": "stdin",
     "output_type": "stream",
     "text": [
      "Enter a string: hello world is not interesting\n"
     ]
    },
    {
     "name": "stdout",
     "output_type": "stream",
     "text": [
      "['e', 'o', 'o', 'i', 'o', 'i', 'e', 'e', 'i']\n"
     ]
    }
   ],
   "source": [
    "# Given a string, return a list of vowels in the string.\n",
    "text=input(\"Enter a string:\")\n",
    "vowels=[i for i in text.lower() if i in \"aeiou\"]\n",
    "print(vowels)"
   ]
  },
  {
   "cell_type": "code",
   "execution_count": 29,
   "id": "fbafe7bc-b8f9-45e9-be3d-66adf19d12bf",
   "metadata": {},
   "outputs": [
    {
     "name": "stdin",
     "output_type": "stream",
     "text": [
      "Enter a ssentence or a word seperated by space : hello world\n"
     ]
    },
    {
     "name": "stdout",
     "output_type": "stream",
     "text": [
      "[2, 1]\n"
     ]
    }
   ],
   "source": [
    "# count no of vowels in each word \n",
    "text=input(\"Enter a ssentence or a word seperated by space :\")\n",
    "char=text.lower().split()\n",
    "vowels=[sum(1 for i in j if i in \"aeiou\")for j in char]\n",
    "print(vowels)\n"
   ]
  },
  {
   "cell_type": "code",
   "execution_count": 37,
   "id": "f309e139-ac72-42b6-9902-0fbc8da93111",
   "metadata": {},
   "outputs": [
    {
     "name": "stdin",
     "output_type": "stream",
     "text": [
      "Enter a ssentence or a word seperated by space : hello world\n"
     ]
    },
    {
     "name": "stdout",
     "output_type": "stream",
     "text": [
      "hello : 2\n",
      "world : 1\n"
     ]
    }
   ],
   "source": [
    "# print the words along with the vowels count\n",
    "text=input(\"Enter a ssentence or a word seperated by space :\")\n",
    "char=text.lower().split()\n",
    "vowels=[print(f\"{j} : {sum(1 for i in j if i in \"aeiou\")}\") for j in char]\n"
   ]
  },
  {
   "cell_type": "code",
   "execution_count": 39,
   "id": "4b2b0397-a932-4ca0-85d9-9bf9794b1907",
   "metadata": {},
   "outputs": [
    {
     "name": "stdin",
     "output_type": "stream",
     "text": [
      "Enter a ssentence or a word seperated by space : hello world\n"
     ]
    },
    {
     "name": "stdout",
     "output_type": "stream",
     "text": [
      "hello:2 vowels --> ['e', 'o']\n",
      "world:1 vowels --> ['o']\n"
     ]
    }
   ],
   "source": [
    "# print the vowels besid ethe words and also the count\n",
    "text=input(\"Enter a ssentence or a word seperated by space :\")\n",
    "char=text.lower().split()\n",
    "vowels=[print(f\"{j}:{sum(1 for i in j if i in \"aeiou\")} vowels --> {[i for i in j if i in \"aeiou\"]}\")for j in char]"
   ]
  },
  {
   "cell_type": "code",
   "execution_count": 45,
   "id": "27f3cad8-a0aa-42e6-9a2f-c5087f41ae77",
   "metadata": {},
   "outputs": [
    {
     "name": "stdin",
     "output_type": "stream",
     "text": [
      "Enter a word: hello\n"
     ]
    },
    {
     "name": "stdout",
     "output_type": "stream",
     "text": [
      "hello : vowels ---> ['e', 'o']\n"
     ]
    }
   ],
   "source": [
    "#List all vowels in a word.\n",
    "text = input(\"Enter a word:\")\n",
    "vowels=[print(f\"{text} : vowels ---> {[i for i in text if i in \"aeiou\"]}\")]"
   ]
  },
  {
   "cell_type": "code",
   "execution_count": 47,
   "id": "b0b666cd-4743-46ce-b1fd-d4b4e6adb2a0",
   "metadata": {},
   "outputs": [
    {
     "name": "stdin",
     "output_type": "stream",
     "text": [
      "Enter a word: python\n"
     ]
    },
    {
     "name": "stdout",
     "output_type": "stream",
     "text": [
      "python : vowels---> ['o']\n"
     ]
    }
   ],
   "source": [
    "#another method \n",
    "text=input(\"Enter a word:\")\n",
    "vowels=[i for i in text.lower() if i in \"aeiou\"]\n",
    "print(f\"{text} : vowels---> {vowels}\")"
   ]
  },
  {
   "cell_type": "code",
   "execution_count": 78,
   "id": "655b6968-c913-4a4e-b0c3-5557fb233659",
   "metadata": {},
   "outputs": [
    {
     "name": "stdin",
     "output_type": "stream",
     "text": [
      "Enter a sentence (seperated by space): sky is up and life is stuck below\n"
     ]
    },
    {
     "name": "stdout",
     "output_type": "stream",
     "text": [
      "is vowels -->['i']\n",
      "up vowels -->['u']\n",
      "and vowels -->['a']\n",
      "life vowels -->['i', 'e']\n",
      "is vowels -->['i']\n",
      "stuck vowels -->['u']\n",
      "below vowels -->['e', 'o']\n"
     ]
    }
   ],
   "source": [
    "#List all words that contain at least one vowel.\n",
    "text=input(\"Enter a sentence (seperated by space):\")\n",
    "words= text.lower().split()\n",
    "a=[(f\"{word} vowels -->{[letter for letter in word if letter in \"aeiou\"]}\") for word in words if any (letter in \"aeiou\" for letter in word )]\n",
    "for i in a:\n",
    "    print(i)"
   ]
  },
  {
   "cell_type": "code",
   "execution_count": 101,
   "id": "b09da162-8838-4b86-a557-6abecc3baaa8",
   "metadata": {},
   "outputs": [
    {
     "name": "stdin",
     "output_type": "stream",
     "text": [
      "Enter a sentence (seperated by space): sky is up\n"
     ]
    },
    {
     "name": "stdout",
     "output_type": "stream",
     "text": [
      "no.of.vowels in (is)--> 1\n",
      "no.of.vowels in (up)--> 1\n"
     ]
    }
   ],
   "source": [
    "#Count total vowels in the entire sentence.\n",
    "text=input(\"Enter a sentence (seperated by space):\")\n",
    "words= text.lower().split()\n",
    "a=[(f\"no.of.vowels in ({word})--> {(sum(1 for letter in word if letter in \"aeiou\"))}\") for word in words if any(letter in \"aeiou\" for letter in word)]\n",
    "for i in a:\n",
    "    print(i)"
   ]
  },
  {
   "cell_type": "code",
   "execution_count": 103,
   "id": "27a35b41-865c-4205-8570-698bacf22eaf",
   "metadata": {},
   "outputs": [
    {
     "name": "stdin",
     "output_type": "stream",
     "text": [
      "Enter a sentence (seperated by space): sky is up\n"
     ]
    },
    {
     "name": "stdout",
     "output_type": "stream",
     "text": [
      "['is', 'up']\n"
     ]
    }
   ],
   "source": [
    "# Input a sentence and list all words that contain at least one vowel.\n",
    "#Example input: \"sky apple orange fly\"\n",
    "#Expected output: ['apple', 'orange']\n",
    "text=input(\"Enter a sentence (seperated by space):\")\n",
    "words= text.lower().split()\n",
    "vowels=[word for word in words if any (letter in \"aeiou\" for letter in word)]\n",
    "print(vowels)"
   ]
  },
  {
   "cell_type": "code",
   "execution_count": 106,
   "id": "e06acf79-f30f-417a-aec1-9f697eb1d285",
   "metadata": {},
   "outputs": [
    {
     "name": "stdin",
     "output_type": "stream",
     "text": [
      "Enter a word: education\n"
     ]
    },
    {
     "name": "stdout",
     "output_type": "stream",
     "text": [
      "['e', 'u', 'a', 'i', 'o']\n"
     ]
    }
   ],
   "source": [
    "# Input a word and display all the vowels present in it.\n",
    "# Example input: \"education\"\n",
    "# Expected output: ['e', 'u', 'a', 'i', 'o']\n",
    "text=input(\"Enter a word:\")\n",
    "word= text.lower()\n",
    "vowels=[letters for letters in word if letters in \"aeiou\"]\n",
    "print(vowels)\n"
   ]
  },
  {
   "cell_type": "code",
   "execution_count": 121,
   "id": "ae0f4919-d845-47be-906e-2d697391a75f",
   "metadata": {},
   "outputs": [
    {
     "name": "stdin",
     "output_type": "stream",
     "text": [
      "Enter a sentence (seperated by space): sky apple orange\n"
     ]
    },
    {
     "name": "stdout",
     "output_type": "stream",
     "text": [
      "apple : 2 vowels\n",
      "orange : 3 vowels\n"
     ]
    }
   ],
   "source": [
    "# Input a sentence and display each word along with the number of vowels it contains.\n",
    "#Example input: \"sky apple orange\"\n",
    "# Output: apple: 2 vowels orange: 3 vowels\n",
    "text=input(\"Enter a sentence (seperated by space):\")\n",
    "words= text.lower().split()\n",
    "vowels =[f\"{word} : {sum(1 for letter in word if letter in  'aeiou')} vowels\" for word in words if any (letter in \"aeiou\" for letter in word)]\n",
    "for i  in vowels:\n",
    "    print(i)"
   ]
  },
  {
   "cell_type": "code",
   "execution_count": 124,
   "id": "142174f4-bbc2-482c-8287-6cbea657698e",
   "metadata": {},
   "outputs": [
    {
     "name": "stdin",
     "output_type": "stream",
     "text": [
      "Enter a sentence (seperated by space): hello world python ai\n"
     ]
    },
    {
     "name": "stdout",
     "output_type": "stream",
     "text": [
      "[('hello', ['e', 'o']), ('world', ['o']), ('python', ['o']), ('ai', ['a', 'i'])]\n"
     ]
    }
   ],
   "source": [
    "# Print a list of tuples where each tuple contains a word and a list of vowels in that word.\n",
    "# Example input: \"hello world python ai\"\n",
    "# Output:[('hello', ['e', 'o']), ('world', ['o']), ('ai', ['a', 'i'])]\n",
    "text=input(\"Enter a sentence (seperated by space):\")\n",
    "words= text.lower().split()\n",
    "vowels=[(word ,[letter for letter in word if letter in 'aeiou']) for word in words if any(letter in 'aeiou' for letter in word)]\n",
    "print(vowels)\n"
   ]
  },
  {
   "cell_type": "code",
   "execution_count": 4,
   "id": "9f589791-00ee-46d3-9d57-51d070f3708c",
   "metadata": {},
   "outputs": [
    {
     "name": "stdin",
     "output_type": "stream",
     "text": [
      "Enter a sentence (seperated by space): madam arora teaches malayalam\n"
     ]
    },
    {
     "name": "stdout",
     "output_type": "stream",
     "text": [
      "madam arora malayalam\n"
     ]
    }
   ],
   "source": [
    "# Write a program to accept a sentence and display only the words which are palindromes.\n",
    "#Example Input: madam arora teaches malayalam\n",
    "#Output: madam arora malayalam\n",
    "text=input(\"Enter a sentence (seperated by space):\")\n",
    "words= text.lower().split()\n",
    "palindrome=\" \".join ([word for word in words if word[::-1]== word ])\n",
    "print(palindrome)"
   ]
  },
  {
   "cell_type": "code",
   "execution_count": 5,
   "id": "427b75ae-9b3b-4d6a-8f4e-e09627780d55",
   "metadata": {},
   "outputs": [
    {
     "name": "stdin",
     "output_type": "stream",
     "text": [
      "Enter a sentence (separated by space): Python programming is interesting\n"
     ]
    },
    {
     "name": "stdout",
     "output_type": "stream",
     "text": [
      "python programming interesting\n"
     ]
    }
   ],
   "source": [
    "# Write a program that takes a sentence and displays all the words with length greater than 5.\n",
    "# Example Input: Python programming is interesting\n",
    "# Output: Python programming interesting\n",
    "text=input(\"Enter a sentence (separated by space):\")\n",
    "words= text.lower().split()\n",
    "length=\" \".join([word for word in words if len(word) > 5])\n",
    "print(length)"
   ]
  },
  {
   "cell_type": "code",
   "execution_count": 6,
   "id": "b67fe124-bfaf-496e-9166-480b3ea5155f",
   "metadata": {},
   "outputs": [
    {
     "name": "stdin",
     "output_type": "stream",
     "text": [
      "Enter a sentence (separated by space): Anna and Arun are amazing\n"
     ]
    },
    {
     "name": "stdout",
     "output_type": "stream",
     "text": [
      "anna\n"
     ]
    }
   ],
   "source": [
    "# Write a program to accept a sentence and display the words that start and end with the same letter.\n",
    "# 📝 Example Input:Anna and Arun are amazing\n",
    "# ✅ Output:Anna\n",
    "text=input(\"Enter a sentence (separated by space):\")\n",
    "words= text.lower().split()\n",
    "start=\" \".join([word for word in words if word[0] == word[-1]])\n",
    "print(start)"
   ]
  },
  {
   "cell_type": "code",
   "execution_count": 43,
   "id": "4b3b6716-a0ad-4008-8f53-cd7ca755b242",
   "metadata": {},
   "outputs": [
    {
     "name": "stdin",
     "output_type": "stream",
     "text": [
      "Enter a sentence (separated by space): Hello World! 123\n"
     ]
    },
    {
     "name": "stdout",
     "output_type": "stream",
     "text": [
      "Vowels : 3\n",
      "Consonants : 7\n",
      "Digits: 3\n",
      "Special Character : 1\n"
     ]
    }
   ],
   "source": [
    "# Write a Python program to count the number of: Vowels,Consonants, Digits,Special characters in a given sentence.\n",
    "# 📝 Example Input: Hello World! 123\n",
    "# ✅ Expected Output: Vowels: 3  Consonants: 7  Digits: 3  Special Characters: 2\n",
    "text=input(\"Enter a sentence (separated by space):\")\n",
    "words= text.lower()\n",
    "vowels= sum(1 for letter in words if letter.isalpha() and letter in \"aeiou\")\n",
    "consonants = sum(1 for letter in words if letter.isalpha() and letter not in \"aeiou\") \n",
    "digits = sum(1 for letter in words if letter.isdigit() )\n",
    "spec= sum(1 for letter in words if not letter.isalnum() and not letter.isspace())\n",
    "print(f\"Vowels : {vowels}\")\n",
    "print(f\"Consonants : {consonants}\")\n",
    "print(f\"Digits: {digits}\")\n",
    "print(f\"Special Character : {spec}\")\n",
    "\n",
    "# IMPO This returns booleans and not numbers"
   ]
  },
  {
   "cell_type": "code",
   "execution_count": 96,
   "id": "f930682c-4b23-4be9-8c5e-7bf56c7e2f95",
   "metadata": {},
   "outputs": [
    {
     "name": "stdin",
     "output_type": "stream",
     "text": [
      "Enter a sentence (separated by space): hello world from python\n"
     ]
    },
    {
     "name": "stdout",
     "output_type": "stream",
     "text": [
      "HellO WorlD FroM PythoN\n"
     ]
    }
   ],
   "source": [
    "# Accept a sentence and return a new string where the first and last letters of each word are capitalized.\n",
    "# 📝 Example Input:hello world from python\n",
    "# ✅ Expected Output: HellO WorlD FroM PythoN\n",
    "text=input(\"Enter a sentence (separated by space):\")\n",
    "capitalize=\" \".join([word[0].upper() + word[1:-1] + word[-1].upper() if len(word)>1 else word.upper() for word in text.split() ])\n",
    "print(capitalize)"
   ]
  },
  {
   "cell_type": "code",
   "execution_count": 106,
   "id": "c9407a92-3e5e-400a-a05e-4a303782fcf4",
   "metadata": {},
   "outputs": [
    {
     "name": "stdin",
     "output_type": "stream",
     "text": [
      "Enter a sentence (separated by space): education automation sequence unique aeronautics\n"
     ]
    },
    {
     "name": "stdout",
     "output_type": "stream",
     "text": [
      "education aeronautics\n"
     ]
    }
   ],
   "source": [
    "# Write a Python program to display the words that contain all 5 vowels (a, e, i, o, u) at least once.\n",
    "# Input: education automation sequence unique aeronautics\n",
    "# Output: education automation aeronautics\n",
    "text=input(\"Enter a sentence (separated by space):\")\n",
    "word=\" \".join([word for word in text.split() if all (vowel in word.lower() for vowel in \"aeiou\") ])\n",
    "print(word)"
   ]
  },
  {
   "cell_type": "code",
   "execution_count": 109,
   "id": "48472aac-29e0-4d06-9ce6-d6f453125736",
   "metadata": {},
   "outputs": [
    {
     "name": "stdin",
     "output_type": "stream",
     "text": [
      "Enter a sentence (separated by space): hello world python\n"
     ]
    },
    {
     "name": "stdout",
     "output_type": "stream",
     "text": [
      "olleh dlrow nohtyp\n"
     ]
    }
   ],
   "source": [
    "# Write a Python program to reverse each word in the sentence, but keep the word order the same.\n",
    "# Input: hello world python Output: olleh dlrow nohtyp\n",
    "text=input(\"Enter a sentence (separated by space):\")\n",
    "words=text.lower().split()\n",
    "reverse=\" \".join([word[::-1] for word in words])\n",
    "print(reverse)\n"
   ]
  },
  {
   "cell_type": "code",
   "execution_count": 142,
   "id": "af99a325-227d-464b-9696-364057d4989b",
   "metadata": {},
   "outputs": [
    {
     "name": "stdin",
     "output_type": "stream",
     "text": [
      "Enter a sentence (separated by space): abc1 def 22ghi jkl\n"
     ]
    },
    {
     "name": "stdout",
     "output_type": "stream",
     "text": [
      "2\n"
     ]
    }
   ],
   "source": [
    "# Write a Python program that counts how many words contain at least one digit.\n",
    "# Input: abc1 def 22ghi jkl Output: 2      # (words 'abc1' and '22ghi' contain digits)\n",
    "text=input(\"Enter a sentence (separated by space):\")\n",
    "words=text.lower().split()\n",
    "word= sum(1 for word in words if any (char.isdigit() for char in word))\n",
    "print(word)"
   ]
  },
  {
   "cell_type": "code",
   "execution_count": 148,
   "id": "8c71ed4f-0821-4ae8-b980-1d607dcb7cfb",
   "metadata": {},
   "outputs": [
    {
     "name": "stdin",
     "output_type": "stream",
     "text": [
      "Enter a sentence (separated by space): I love programming in Python\n"
     ]
    },
    {
     "name": "stdout",
     "output_type": "stream",
     "text": [
      "programming 11\n"
     ]
    }
   ],
   "source": [
    "# Write a Python program that finds the longest word in a sentence and prints its length.\n",
    "# Input: I love programming in Python Output: programming (11)\n",
    "text=input(\"Enter a sentence (separated by space):\")\n",
    "words=text.lower().split()\n",
    "length=[len(word) for word in words ]\n",
    "print(words[length.index(max(length))] , max(length))"
   ]
  },
  {
   "cell_type": "code",
   "execution_count": 162,
   "id": "38a1420e-2cfb-43c3-8650-898bad8f2a63",
   "metadata": {},
   "outputs": [
    {
     "name": "stdin",
     "output_type": "stream",
     "text": [
      "Enter a sentence (separated by space): Hello World \n"
     ]
    },
    {
     "name": "stdout",
     "output_type": "stream",
     "text": [
      "h * l l *   w * r l d  \n"
     ]
    }
   ],
   "source": [
    "# Write a Python program that replaces every vowel (a, e, i, o, u — both uppercase and lowercase) in a sentence with *.\n",
    "# Input: Hello World Output: H*ll* W*rld\n",
    "text=input(\"Enter a sentence (separated by space):\")\n",
    "asterix = \" \".join([\"*\" if char in \"aeiou\" else char for char in text.lower() ])\n",
    "print(asterix)"
   ]
  }
 ],
 "metadata": {
  "kernelspec": {
   "display_name": "Python 3 (ipykernel)",
   "language": "python",
   "name": "python3"
  },
  "language_info": {
   "codemirror_mode": {
    "name": "ipython",
    "version": 3
   },
   "file_extension": ".py",
   "mimetype": "text/x-python",
   "name": "python",
   "nbconvert_exporter": "python",
   "pygments_lexer": "ipython3",
   "version": "3.13.2"
  }
 },
 "nbformat": 4,
 "nbformat_minor": 5
}
