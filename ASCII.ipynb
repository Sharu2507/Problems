{
 "cells": [
  {
   "cell_type": "code",
   "execution_count": 8,
   "id": "dbf0cacd-15b0-4a4e-9a4f-ae636deb769f",
   "metadata": {},
   "outputs": [
    {
     "name": "stdin",
     "output_type": "stream",
     "text": [
      "Enter any letter: B\n"
     ]
    },
    {
     "name": "stdout",
     "output_type": "stream",
     "text": [
      "66\n"
     ]
    }
   ],
   "source": [
    "# ASCII Value of a Character\n",
    "# mWrite a program that takes a single character input and prints its ASCII value.\n",
    "# Input: A  Output: 65\n",
    "n=input(\"Enter any letter:\")\n",
    "print(ord(n))\n"
   ]
  },
  {
   "cell_type": "code",
   "execution_count": 9,
   "id": "3afed22f-447c-4551-af32-0e5ab278fe21",
   "metadata": {},
   "outputs": [
    {
     "name": "stdin",
     "output_type": "stream",
     "text": [
      "Enter any number between 32 to 126 121\n"
     ]
    },
    {
     "name": "stdout",
     "output_type": "stream",
     "text": [
      "y\n"
     ]
    }
   ],
   "source": [
    "# Write a program that takes an integer input and prints the corresponding ASCII character.\n",
    "# Input: 97  Output: a\n",
    "n =int(input(\"Enter any number between 32 to 126:\"))\n",
    "print(chr(n))"
   ]
  },
  {
   "cell_type": "code",
   "execution_count": 13,
   "id": "c62a9413-2e95-4e0e-a61e-3c8085a5665a",
   "metadata": {},
   "outputs": [
    {
     "name": "stdout",
     "output_type": "stream",
     "text": [
      "a\n",
      "b\n",
      "c\n",
      "d\n",
      "e\n",
      "f\n",
      "g\n",
      "h\n",
      "i\n",
      "j\n",
      "k\n",
      "l\n",
      "m\n",
      "n\n",
      "o\n",
      "p\n",
      "q\n",
      "r\n",
      "s\n",
      "t\n",
      "u\n",
      "v\n",
      "w\n",
      "x\n",
      "y\n",
      "z\n"
     ]
    }
   ],
   "source": [
    "# Print all lowercase letters using ASCII values (i.e., without typing them out directly).\n",
    "# output:a b c d ... z\n",
    "i = 96\n",
    "while i < 122:\n",
    "    i=i+1\n",
    "    print(chr(i))"
   ]
  },
  {
   "cell_type": "code",
   "execution_count": 15,
   "id": "07074d66-ef77-4cec-bfad-13f6e4ca1778",
   "metadata": {},
   "outputs": [
    {
     "name": "stdout",
     "output_type": "stream",
     "text": [
      "A\n",
      "B\n",
      "C\n",
      "D\n",
      "E\n",
      "F\n",
      "G\n",
      "H\n",
      "I\n",
      "J\n",
      "K\n",
      "L\n",
      "M\n",
      "N\n",
      "O\n",
      "P\n",
      "Q\n",
      "R\n",
      "S\n",
      "T\n",
      "U\n",
      "V\n",
      "W\n",
      "X\n",
      "Y\n"
     ]
    }
   ],
   "source": [
    "# Print all uppercase letters from A to Z using a loop and chr().\n",
    "for i in range(65, 90):\n",
    "    print(chr(i))"
   ]
  },
  {
   "cell_type": "code",
   "execution_count": 17,
   "id": "837597a1-3ea4-48ed-8d4b-ff65a71fc607",
   "metadata": {},
   "outputs": [
    {
     "name": "stdout",
     "output_type": "stream",
     "text": [
      "a\n",
      "b\n",
      "c\n",
      "d\n",
      "e\n",
      "f\n",
      "g\n",
      "h\n",
      "i\n",
      "j\n",
      "k\n",
      "l\n",
      "m\n",
      "n\n",
      "o\n",
      "p\n",
      "q\n",
      "r\n",
      "s\n",
      "t\n",
      "u\n",
      "v\n",
      "w\n",
      "x\n",
      "y\n"
     ]
    }
   ],
   "source": [
    "# Same as above, but for lowercase letters from a to z.\n",
    "for i in range (97,122):\n",
    "    print(chr(i))"
   ]
  },
  {
   "cell_type": "code",
   "execution_count": 20,
   "id": "0d9a9f03-1619-41bd-9682-374a06b6a82c",
   "metadata": {},
   "outputs": [
    {
     "name": "stdout",
     "output_type": "stream",
     "text": [
      "0\n",
      "1\n",
      "2\n",
      "3\n",
      "4\n",
      "5\n",
      "6\n",
      "7\n",
      "8\n",
      "9\n"
     ]
    }
   ],
   "source": [
    "# Print characters for ASCII values of digits 0 to 9.\n",
    "for i in range(48,58):\n",
    "    print(chr(i))"
   ]
  },
  {
   "cell_type": "code",
   "execution_count": 23,
   "id": "25254f2e-ff29-4a3b-88a4-94352d4c8b3c",
   "metadata": {},
   "outputs": [
    {
     "name": "stdin",
     "output_type": "stream",
     "text": [
      "Enter any character: &\n"
     ]
    },
    {
     "name": "stdout",
     "output_type": "stream",
     "text": [
      "symbols\n"
     ]
    }
   ],
   "source": [
    "# Take a character input and print whether it's: Uppercase Lowercase Digit Symbol\n",
    "# Hint: Use ASCII ranges:\n",
    "# Uppercase: 65–90\n",
    "# Lowercase: 97–122\n",
    "# Digit: 48–57\n",
    "n=input(\"Enter any character:\")\n",
    "ASC =(ord(n))\n",
    "if ASC >47 and ASC<58:\n",
    "    print(\"DIGIT\")\n",
    "elif ASC>96 and ASC <123:\n",
    "    print(\"Lowercase\")\n",
    "elif ASC>64 and ASC <91:\n",
    "    print(\"Uppercase\")\n",
    "else:\n",
    "    print(\"symbols\")"
   ]
  }
 ],
 "metadata": {
  "kernelspec": {
   "display_name": "Python 3 (ipykernel)",
   "language": "python",
   "name": "python3"
  },
  "language_info": {
   "codemirror_mode": {
    "name": "ipython",
    "version": 3
   },
   "file_extension": ".py",
   "mimetype": "text/x-python",
   "name": "python",
   "nbconvert_exporter": "python",
   "pygments_lexer": "ipython3",
   "version": "3.13.2"
  }
 },
 "nbformat": 4,
 "nbformat_minor": 5
}
